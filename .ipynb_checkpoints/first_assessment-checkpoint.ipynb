{
 "cells": [
  {
   "cell_type": "raw",
   "id": "fd9a8988-1039-4114-b8ed-b740b771a157",
   "metadata": {},
   "source": [
    "Importing of the needed libraries\n",
    "\n",
    "This cell import the required libraries for the blockchain they are:\n",
    "hashlib: This is used for the generation of the cryptographic hash values i.e. SHA-256 which also ensures the integrity and uniqueness of the each block.\n",
    "time:This is used to timestamp the each block at the moment, when its created"
   ]
  },
  {
   "cell_type": "code",
   "execution_count": 1,
   "id": "06497046-4d81-49c5-a598-cc63da66834f",
   "metadata": {},
   "outputs": [],
   "source": [
    "import hashlib\n",
    "import time"
   ]
  },
  {
   "cell_type": "raw",
   "id": "784d63f4-0a34-4f05-9324-6bcc544dac06",
   "metadata": {},
   "source": [
    "Defining of the block class\n",
    "\n",
    "This class defines the single block in the blockchain, each block stores the following:\n",
    "- Its index in the chain\n",
    "- A timestamp of when it was created\n",
    "- Some data like transaction\n",
    "- A proof number that is used for the mining\n",
    "- A previous hash to linnk to the block before it"
   ]
  },
  {
   "cell_type": "code",
   "execution_count": 2,
   "id": "fbbd7875-8cf5-4c28-a60d-d5898346ae5e",
   "metadata": {},
   "outputs": [],
   "source": [
    "class Block:\n",
    "    def __init__(self, index, previous_hash, timestamp, data, proof):\n",
    "        self.index = index\n",
    "        self.previous_hash = previous_hash\n",
    "        self.timestamp = timestamp\n",
    "        self.data = data\n",
    "        self.proof = proof\n",
    "        self.hash = self.calculate_hash()\n",
    "\n",
    "    def calculate_hash(self):\n",
    "        block_string = f\"{self.index}{self.previous_hash}{self.timestamp}{self.data}{self.proof}\"\n",
    "        return hashlib.sha256(block_string.encode()).hexdigest()"
   ]
  },
  {
   "cell_type": "raw",
   "id": "2334fc31-e9b8-4cac-8460-1965feac2d39",
   "metadata": {},
   "source": [
    "Defining the blockchain class\n",
    "\n",
    "In this class, I define the actual blockchain, which includes the blocks as:\n",
    "- create_genesis_block(): creates "
   ]
  }
 ],
 "metadata": {
  "kernelspec": {
   "display_name": "Python [conda env:base] *",
   "language": "python",
   "name": "conda-base-py"
  },
  "language_info": {
   "codemirror_mode": {
    "name": "ipython",
    "version": 3
   },
   "file_extension": ".py",
   "mimetype": "text/x-python",
   "name": "python",
   "nbconvert_exporter": "python",
   "pygments_lexer": "ipython3",
   "version": "3.13.5"
  }
 },
 "nbformat": 4,
 "nbformat_minor": 5
}

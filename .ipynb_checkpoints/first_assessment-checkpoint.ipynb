{
 "cells": [
  {
   "cell_type": "raw",
   "id": "fd9a8988-1039-4114-b8ed-b740b771a157",
   "metadata": {},
   "source": [
    "Importing of the needed libraries\n",
    "\n",
    "This cell import the required libraries for the blockchain they are:\n",
    "hashlib: This is used for the generation of the cryptographic hash values i.e. SHA-256 which also ensures the integrity and uniqueness of the each block.\n",
    "time:This is used to timestamp the each block at the moment, when its created"
   ]
  },
  {
   "cell_type": "code",
   "execution_count": 1,
   "id": "06497046-4d81-49c5-a598-cc63da66834f",
   "metadata": {},
   "outputs": [],
   "source": [
    "import hashlib\n",
    "import time"
   ]
  },
  {
   "cell_type": "raw",
   "id": "784d63f4-0a34-4f05-9324-6bcc544dac06",
   "metadata": {},
   "source": [
    "Defining of the block class\n",
    "\n",
    "This class defines the single block in the blockchain, each block stores the following:\n",
    "- Its index in the chain\n",
    "- A timestamp of when it was created\n",
    "- Some data like transaction\n",
    "- A proof number that is used for the mining\n",
    "- A previous hash to linnk to the block before it"
   ]
  },
  {
   "cell_type": "code",
   "execution_count": 3,
   "id": "fbbd7875-8cf5-4c28-a60d-d5898346ae5e",
   "metadata": {},
   "outputs": [],
   "source": [
    "class Block:\n",
    "    \"\"\"\n",
    "    Represents a single block in the blockchain.\n",
    "    Contains index, previous hash, timestamp, transaction data,\n",
    "    proof of work, and current hash.\n",
    "    \"\"\"\n",
    "    def __init__(self, index, previous_hash, timestamp, data, proof):\n",
    "        self.index = index\n",
    "        self.previous_hash = previous_hash\n",
    "        self.timestamp = timestamp\n",
    "        self.data = data\n",
    "        self.proof = proof\n",
    "        self.hash = self.calculate_hash()\n",
    "\n",
    "    def calculate_hash(self):\n",
    "        \"\"\"\n",
    "        Generates SHA-256 hash of the block's content.\n",
    "        \"\"\"\n",
    "        block_string = f\"{self.index}{self.previous_hash}{self.timestamp}{self.data}{self.proof}\"\n",
    "        return hashlib.sha256(block_string.encode()).hexdigest()"
   ]
  },
  {
   "cell_type": "raw",
   "id": "2334fc31-e9b8-4cac-8460-1965feac2d39",
   "metadata": {},
   "source": [
    "Defining the blockchain class\n",
    "\n",
    "In this class, I define the actual blockchain, which includes the blocks as:\n",
    "- __init__: This helps in the initialization of the single genesis block\n",
    "- create_genesis_block(): This creates the first block manually\n",
    "- get_latest_block():  this returns the last block in the chain\n",
    "- proof_of_work(): this helps in the performing of the mining by the incrementing the proof until the hash with leading zeros which is difficulty is found\n",
    "- add_block(): This helps in the linking of the block to the last one and mines it by the use of the Proof of Work\n",
    "- add_data(): This helps in the creation of the block from the user-provided data\n",
    "- is_chain_valid(): This checks if: the block hash is valid and the previous hash field links correctly to the previous block's hash. This helps in the tampering or the broken chains. "
   ]
  },
  {
   "cell_type": "code",
   "execution_count": 7,
   "id": "7fe3e2a9-cb3a-427b-bbcc-e352c30befec",
   "metadata": {},
   "outputs": [],
   "source": [
    "class Blockchain:\n",
    "    \"\"\"\n",
    "    Represents the blockchain, a chain of blocks.\n",
    "    Includes functionality to add blocks, validate chain,\n",
    "    and perform proof-of-work.\n",
    "    \"\"\"\n",
    "\n",
    "    def __init__(self):\n",
    "        self.chain = [self.create_genesis_block()]\n",
    "        self.difficulty = 4  # Number of leading zeros required in hash\n",
    "\n",
    "    def create_genesis_block(self):\n",
    "        \"\"\"\n",
    "        Creates the first block (genesis block) with default values.\n",
    "        \"\"\"\n",
    "        return Block(0, \"0\", time.time(), \"Genesis Block\", 0)\n",
    "\n",
    "    def get_latest_block(self):\n",
    "        \"\"\"\n",
    "        Returns the last block in the chain.\n",
    "        \"\"\"\n",
    "        return self.chain[-1]\n",
    "\n",
    "    def proof_of_work(self, block):\n",
    "        \"\"\"\n",
    "        Performs proof-of-work by finding a hash with required leading zeros.\n",
    "        \"\"\"\n",
    "        block.proof = 0\n",
    "        block.hash = block.calculate_hash()\n",
    "        while not block.hash.startswith(\"0\" * self.difficulty):\n",
    "            block.proof += 1\n",
    "            block.hash = block.calculate_hash()\n",
    "        return block\n",
    "\n",
    "    def add_block(self, new_block):\n",
    "        \"\"\"\n",
    "        Adds a new block to the blockchain after proof-of-work.\n",
    "        \"\"\"\n",
    "        new_block.previous_hash = self.get_latest_block().hash\n",
    "        valid_block = self.proof_of_work(new_block)\n",
    "        self.chain.append(valid_block)\n",
    "\n",
    "    def add_data(self, data):\n",
    "        \"\"\"\n",
    "        Adds user-provided data as a new block to the blockchain.\n",
    "        \"\"\"\n",
    "        index = len(self.chain)\n",
    "        previous_hash = self.get_latest_block().hash\n",
    "        timestamp = time.time()\n",
    "        new_block = Block(index, previous_hash, timestamp, data, 0)\n",
    "        self.add_block(new_block)\n",
    "\n",
    "    def is_chain_valid(self):\n",
    "        \"\"\"\n",
    "        Validates the entire blockchain.\n",
    "        Checks hash integrity and block linkage.\n",
    "        \"\"\"\n",
    "        for i in range(1, len(self.chain)):\n",
    "            current = self.chain[i]\n",
    "            previous = self.chain[i - 1]\n",
    "\n",
    "            if current.hash != current.calculate_hash():\n",
    "                print(f\"Tampering detected in Block {current.index}\")\n",
    "                return False\n",
    "\n",
    "            if current.previous_hash != previous.hash:\n",
    "                print(f\"Invalid link at Block {current.index}\")\n",
    "                return False\n",
    "\n",
    "        return True\n"
   ]
  },
  {
   "cell_type": "raw",
   "id": "1ffadb69-5c95-4e15-87c4-b581e39e877b",
   "metadata": {},
   "source": [
    "Helper function to display and menu\n",
    "\n",
    "This helps in providing output formatting and user interface prompts.    \n",
    "- display_block(block): This nicely formats and prints all of the attributes of a block so the blockchain output is human readable\n",
    "-show_menu(): This shows the available options in a human-readable form. "
   ]
  },
  {
   "cell_type": "code",
   "execution_count": 8,
   "id": "0ff5661d-7a4e-4cd8-9987-3b1b9239d806",
   "metadata": {},
   "outputs": [],
   "source": [
    "def display_block(block):\n",
    "    \"\"\"\n",
    "    Prints the details of a block in a clean format.\n",
    "    \"\"\"\n",
    "    print(\"\\n-----------------------------\")\n",
    "    print(f\"Block {block.index}\")\n",
    "    print(f\"Timestamp     : {time.ctime(block.timestamp)}\")\n",
    "    print(f\"Data          : {block.data}\")\n",
    "    print(f\"Proof         : {block.proof}\")\n",
    "    print(f\"Hash          : {block.hash}\")\n",
    "    print(f\"Previous Hash : {block.previous_hash}\")\n",
    "    print(\"-----------------------------\")\n",
    "\n",
    "def show_menu():\n",
    "    \"\"\"\n",
    "    Prints the CLI menu.\n",
    "    \"\"\"\n",
    "    print(\"\\n=== Blockchain Menu ===\")\n",
    "    print(\"1. Add a new transaction\")\n",
    "    print(\"2. Display blockchain\")\n",
    "    print(\"3. Validate blockchain\")\n",
    "    print(\"4. Exit\")\n"
   ]
  },
  {
   "cell_type": "raw",
   "id": "5cb807cd-a29d-4d93-ac09-7565206271ce",
   "metadata": {},
   "source": [
    "Main execution loop\n",
    "\n",
    "This helps in the management of the user interaction by\n",
    "- displaying the menu\n",
    "- accepting the user input for the addition of the transaction, displaying of the blockchain, validating the blockchain and \n",
    "-Handling of the input errors like empty strings, invalid choices. "
   ]
  },
  {
   "cell_type": "code",
   "execution_count": null,
   "id": "b8e45c9f-b693-4964-ae05-13a306ea2f8b",
   "metadata": {},
   "outputs": [
    {
     "name": "stdout",
     "output_type": "stream",
     "text": [
      "\n",
      "=== Blockchain Menu ===\n",
      "1. Add a new transaction\n",
      "2. Display blockchain\n",
      "3. Validate blockchain\n",
      "4. Exit\n"
     ]
    },
    {
     "name": "stdin",
     "output_type": "stream",
     "text": [
      "Enter your choice (1-4):  1\n",
      "Enter transaction data:  Genesis brother\n"
     ]
    },
    {
     "name": "stdout",
     "output_type": "stream",
     "text": [
      "Mining block...\n",
      "Block added successfully!\n",
      "\n",
      "=== Blockchain Menu ===\n",
      "1. Add a new transaction\n",
      "2. Display blockchain\n",
      "3. Validate blockchain\n",
      "4. Exit\n"
     ]
    },
    {
     "name": "stdin",
     "output_type": "stream",
     "text": [
      "Enter your choice (1-4):  2\n"
     ]
    },
    {
     "name": "stdout",
     "output_type": "stream",
     "text": [
      "\n",
      "-----------------------------\n",
      "Block 0\n",
      "Timestamp     : Thu Jul 17 06:00:23 2025\n",
      "Data          : Genesis Block\n",
      "Proof         : 0\n",
      "Hash          : 0e5edad5dd9ef5316a2b39f5bbe93e8b857c570d31ba79a457c1c27bb2244b82\n",
      "Previous Hash : 0\n",
      "-----------------------------\n",
      "\n",
      "-----------------------------\n",
      "Block 1\n",
      "Timestamp     : Thu Jul 17 06:00:39 2025\n",
      "Data          : Genesis brother\n",
      "Proof         : 316819\n",
      "Hash          : 0000560ae2fdf34a80cba130f879b76a2e2165a6768af486ac33f59df76ac2c9\n",
      "Previous Hash : 0e5edad5dd9ef5316a2b39f5bbe93e8b857c570d31ba79a457c1c27bb2244b82\n",
      "-----------------------------\n",
      "\n",
      "=== Blockchain Menu ===\n",
      "1. Add a new transaction\n",
      "2. Display blockchain\n",
      "3. Validate blockchain\n",
      "4. Exit\n"
     ]
    },
    {
     "name": "stdin",
     "output_type": "stream",
     "text": [
      "Enter your choice (1-4):  3\n"
     ]
    },
    {
     "name": "stdout",
     "output_type": "stream",
     "text": [
      "Blockchain is valid!\n",
      "\n",
      "=== Blockchain Menu ===\n",
      "1. Add a new transaction\n",
      "2. Display blockchain\n",
      "3. Validate blockchain\n",
      "4. Exit\n"
     ]
    }
   ],
   "source": [
    "# blockchain instance creation\n",
    "blockchain = Blockchain()\n",
    "\n",
    "# Interactive loop\n",
    "while True:\n",
    "    show_menu()\n",
    "    try:\n",
    "        choice = input(\"Enter your choice (1-4): \").strip()\n",
    "\n",
    "        if choice == '1':\n",
    "            data = input(\"Enter transaction data: \").strip()\n",
    "            if not data:\n",
    "                print(\"Data cannot be empty.\")\n",
    "                continue\n",
    "            print(\"Mining block...\")\n",
    "            blockchain.add_data(data)\n",
    "            print(\"Block added successfully!\")\n",
    "\n",
    "        elif choice == '2':\n",
    "            for block in blockchain.chain:\n",
    "                display_block(block)\n",
    "\n",
    "        elif choice == '3':\n",
    "            is_valid = blockchain.is_chain_valid()\n",
    "            print(\"Blockchain is valid!\" if is_valid else \"Blockchain is NOT valid!\")\n",
    "\n",
    "        elif choice == '4':\n",
    "            print(\"Exiting...\")\n",
    "            break\n",
    "\n",
    "        else:\n",
    "            print(\"Invalid choice. Please select 1, 2, 3, or 4.\")\n",
    "\n",
    "    except Exception as e:\n",
    "        print(f\"Error: {str(e)}\")\n"
   ]
  },
  {
   "cell_type": "code",
   "execution_count": null,
   "id": "05bc9dba-3a7e-4b53-b18d-36ee3845579c",
   "metadata": {},
   "outputs": [],
   "source": []
  }
 ],
 "metadata": {
  "kernelspec": {
   "display_name": "Python [conda env:base] *",
   "language": "python",
   "name": "conda-base-py"
  },
  "language_info": {
   "codemirror_mode": {
    "name": "ipython",
    "version": 3
   },
   "file_extension": ".py",
   "mimetype": "text/x-python",
   "name": "python",
   "nbconvert_exporter": "python",
   "pygments_lexer": "ipython3",
   "version": "3.13.5"
  }
 },
 "nbformat": 4,
 "nbformat_minor": 5
}
